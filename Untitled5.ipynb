{
 "cells": [
  {
   "cell_type": "code",
   "execution_count": 1,
   "id": "58474d0a-c72b-468a-a1e4-b6fd0693ddc2",
   "metadata": {},
   "outputs": [
    {
     "name": "stdin",
     "output_type": "stream",
     "text": [
      "nama kamu siapa?:  silvi\n",
      "darimana kamu?:  jakarta\n",
      "sebelumnya kamu bersekolah dimana?:  sman 76 jakarta\n"
     ]
    },
    {
     "name": "stdout",
     "output_type": "stream",
     "text": [
      "hallo selamat siang silvi\n",
      "wah dari jakarta\n",
      "pasti menyenangkan sman 76 jakarta\n"
     ]
    }
   ],
   "source": [
    "nama = input (\"nama kamu siapa?: \")\n",
    "asal = input (\"darimana kamu?: \")\n",
    "sekolah = input (\"sebelumnya kamu bersekolah dimana?: \")\n",
    "print(\"hallo selamat siang \"+str(nama))\n",
    "print(\"wah dari \"+str(asal))\n",
    "print(\"pasti menyenangkan \"+str(sekolah))"
   ]
  },
  {
   "cell_type": "code",
   "execution_count": 3,
   "id": "ee29102e-2b2b-4ee0-b90b-6323b0dc7aea",
   "metadata": {},
   "outputs": [
    {
     "name": "stdout",
     "output_type": "stream",
     "text": [
      "hitung luas lingkaran\n"
     ]
    },
    {
     "name": "stdin",
     "output_type": "stream",
     "text": [
      "panjang:  18\n",
      "lebar:  18\n",
      "satuan:  cm\n"
     ]
    },
    {
     "name": "stdout",
     "output_type": "stream",
     "text": [
      "Luas ruangan dengan panjang 18 dan lebar 18 adalah 324cm\n"
     ]
    }
   ],
   "source": [
    "print(\"hitung luas lingkaran\")\n",
    "panjang = int(input(\"panjang: \"))\n",
    "lebar = int(input(\"lebar: \"))\n",
    "satuan = str(input(\"satuan: \"))\n",
    "luas = panjang*lebar\n",
    "print(\"Luas ruangan dengan panjang \" + str(panjang) + \" dan lebar \" +str(lebar) + \" adalah \" +str(luas) + str(satuan))"
   ]
  },
  {
   "cell_type": "code",
   "execution_count": null,
   "id": "0255e277-e719-41c8-b80d-a42a8adce4b6",
   "metadata": {},
   "outputs": [],
   "source": []
  }
 ],
 "metadata": {
  "kernelspec": {
   "display_name": "Python 3 (ipykernel)",
   "language": "python",
   "name": "python3"
  },
  "language_info": {
   "codemirror_mode": {
    "name": "ipython",
    "version": 3
   },
   "file_extension": ".py",
   "mimetype": "text/x-python",
   "name": "python",
   "nbconvert_exporter": "python",
   "pygments_lexer": "ipython3",
   "version": "3.12.4"
  }
 },
 "nbformat": 4,
 "nbformat_minor": 5
}
